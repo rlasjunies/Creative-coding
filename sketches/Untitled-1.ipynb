{
 "cells": [
  {
   "cell_type": "code",
   "execution_count": null,
   "metadata": {
    "dotnet_interactive": {
     "language": "javascript"
    }
   },
   "outputs": [
    {
     "data": {
      "text/plain": [
       "bounce horizontial: \n",
       "\tInitial:45 -> 225"
      ]
     },
     "metadata": {},
     "output_type": "display_data"
    },
    {
     "data": {
      "text/plain": [
       "bounce horizontial: \n",
       "\tInitial:90 -> 180"
      ]
     },
     "metadata": {},
     "output_type": "display_data"
    },
    {
     "data": {
      "text/plain": [
       "bounce horizontial: \n",
       "\tInitial:135 -> 135"
      ]
     },
     "metadata": {},
     "output_type": "display_data"
    },
    {
     "data": {
      "text/plain": [
       "bounce horizontial: \n",
       "\tInitial:-45 -> 45"
      ]
     },
     "metadata": {},
     "output_type": "display_data"
    },
    {
     "data": {
      "text/plain": [
       "bounce horizontial: \n",
       "\tInitial:-225 -> -135"
      ]
     },
     "metadata": {},
     "output_type": "display_data"
    },
    {
     "data": {
      "text/plain": [
       "x:0.9396926207859084 - y:0.3420201433256687"
      ]
     },
     "metadata": {},
     "output_type": "display_data"
    },
    {
     "data": {
      "text/plain": [
       "atan2:20"
      ]
     },
     "metadata": {},
     "output_type": "display_data"
    }
   ],
   "source": [
    "\n",
    "let initial = 45;\n",
    "console.log(`bounce horizontial: \\n\\tInitial:${initial} -> ${bounce(initial)}`);\n",
    "\n",
    "initial = 90;\n",
    "console.log(`bounce horizontial: \\n\\tInitial:${initial} -> ${bounce(initial)}`);\n",
    "\n",
    "initial = 135;\n",
    "console.log(`bounce horizontial: \\n\\tInitial:${initial} -> ${bounce(initial)}`);\n",
    "\n",
    "initial = -45;\n",
    "console.log(`bounce horizontial: \\n\\tInitial:${initial} -> ${bounce(initial)}`);\n",
    "\n",
    "initial = -225;\n",
    "console.log(`bounce horizontial: \\n\\tInitial:${initial} -> ${bounce(initial)}`);\n",
    "\n",
    "function degToRad (angleDeg) {\n",
    "  return angleDeg * Math.PI / 180;\n",
    "}\n",
    "\n",
    "function radToDeg (angleRad) {\n",
    "  return angleRad * 180 / Math.PI\n",
    "}\n",
    "function bounce(angleInit){\n",
    "  let angleRad = degToRad(angleInit);\n",
    "  switch (true) {\n",
    "    case angleRad > 0:\n",
    "    angleRad = Math.PI - angleRad;\n",
    "    case angleRad <= 0:\n",
    "    angleRad = Math.PI/2 + angleRad;\n",
    "  }\n",
    "\n",
    "  let angleDeg = radToDeg(angleRad);\n",
    "  return angleDeg;\n",
    "}\n",
    "\n",
    "\n",
    "let angle = 20;\n",
    "\n",
    "let x = Math.cos(degToRad(angle));\n",
    "let y = Math.sin(degToRad(angle));\n",
    "console.log(`x:${x} - y:${y}`);\n",
    "\n",
    "let angleatan2 = Math.atan2(y,x);\n",
    "console.log(`atan2:${radToDeg(angleatan2)}`)"
   ]
  }
 ],
 "metadata": {
  "kernelspec": {
   "display_name": ".NET (C#)",
   "language": "C#",
   "name": ".net-csharp"
  },
  "language_info": {
   "name": "C#"
  }
 },
 "nbformat": 4,
 "nbformat_minor": 2
}
